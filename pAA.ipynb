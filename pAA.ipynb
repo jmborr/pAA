{
 "metadata": {
  "name": "",
  "signature": "sha256:7ae67ecd6dca4f03824c4111cbf2a26c7ffe69a3497afc677bd9a2501cab369c"
 },
 "nbformat": 3,
 "nbformat_minor": 0,
 "worksheets": [
  {
   "cells": [
    {
     "cell_type": "markdown",
     "metadata": {},
     "source": [
      "<a id='Table of Contents'></a><h2>poly Acrylic Acid</h2>  \n",
      "<a href='#goal'>Goal</a>   \n",
      "<a href='#people'>People</a>  \n",
      "\n",
      "<a id='Experiment'></a><h3>Experiment</h3>\n",
      "\n",
      "<a href='#Experiment.ionization'>Polymer ionization</a>  \n",
      "\n",
      "<a id='SingleChain'></a><h3>Single Chain Simulations</h3>\n",
      "\n",
      "\n",
      "<a id='meetings'></a><b>Meetings</b>  \n",
      "\n",
      "<a href='#Syntax'>HTML and Markdown Syntax Examples</a>  \n"
     ]
    },
    {
     "cell_type": "markdown",
     "metadata": {},
     "source": [
      "(<a href='#Table of Contents'>Top</a>)<a id='goal'></a><h3>Goal</h3>\n",
      "[poly-acrylic acid](https://en.wikipedia.org/wiki/Acrylic_acid).\n"
     ]
    },
    {
     "cell_type": "markdown",
     "metadata": {},
     "source": [
      "(<a href='#Table of Contents'>Top</a>)<a id='people'></a><h3>People</h3>\n",
      "Marcella Cabrera Berg"
     ]
    },
    {
     "cell_type": "markdown",
     "metadata": {},
     "source": [
      "<h2>Experiment</h2>"
     ]
    },
    {
     "cell_type": "markdown",
     "metadata": {},
     "source": [
      "(<a href='#Experiment'>Top</a>)<a id='Experiment.ionization'></a><h3>Polymer ionization</h3>\n",
      "\n",
      "[Acrylic acid](https://en.wikipedia.org/wiki/Acrylic_acid) can ionize in the presence of water converting to [metacrylate](https://en.wikipedia.org/wiki/Methacrylate): $C_3H_4O_2 = C_3H_3O_2^- + H^+$. The [carboxylate](https://en.wikipedia.org/wiki/Carboxylate) anion $COO^-$ of the methacrylate can be neutralized by adding $Na^+$ to the simulation box.\n",
      "\n",
      "Given the defintion of Ka, $Ka = \\frac{[COO^-][H^+]}{[COOH]}$, we can solve for the $\\frac{[COO^-]}{[COOH]}$ ratio by taking $-log_{10}$:\n",
      "\n",
      "<center>$-log_{10}Ka = pKa = -log_{10}(\\frac{[COO^-]}{[COOH]}) -log_{10}[H^+] = -log_{10}(\\frac{[COO^-]}{[COOH]}) + pH$  \n",
      "$\\frac{[COO^-]}{[COOH]} =  10^{pH-pKa}$</center>\n",
      "\n",
      "$pKa$ of acrylic acid is 4.25, so:  \n",
      "- At neutral $pH=7$ we have $\\frac{[COO^-]}{[COOH]} =  10^{7-4.25} \\approx 562$, fully ionized.\n",
      "- At acidic $pH=1.5$ we have $\\frac{[COO^-]}{[COOH]} =  10^{1.5-4.25} \\approx 1.8\\cdot 10^{-3}$, fully neutral."
     ]
    },
    {
     "cell_type": "markdown",
     "metadata": {},
     "source": [
      "<h2>Single Chain Simulations</h2>\n"
     ]
    },
    {
     "cell_type": "markdown",
     "metadata": {},
     "source": [
      "<h2>Meetings</h2>"
     ]
    },
    {
     "cell_type": "markdown",
     "metadata": {},
     "source": [
      "(<a href='#Table of Contents'>Top</a>)<a id='Syntax'></a><h3>HTML and Markdown Syntax Examples</h3>\n",
      "local link: [link](files/link)</br>\n",
      "remote link: <a href=\"http://ambermd.org/\">http://ambermd.org</a>\n",
      "<font face=\"courier new\"> font face=\"courier new\" </font><br/>\n",
      "$$S_{model}(Q,E)=A(Q)\\cdot S_{elastic}(E) + B(Q)\\cdot S_{simulation}(Q,E)\\otimes S_{elastic}(E) + C(Q)+D(Q)\\cdot E$$\n",
      "<pre> Quoted text </pre>\n",
      "<center><table><tr>\n",
      "<td><a href=\"files/image.png\"><img src=\"files/image.png\" width=\"300\" height=\"250\" alt=\"image here\"></a> <br/>\n",
      "    <i>image caption</i></td>\n",
      "<td>some text</td>\n",
      "</tr></table></center>"
     ]
    },
    {
     "cell_type": "code",
     "collapsed": false,
     "input": [],
     "language": "python",
     "metadata": {},
     "outputs": []
    }
   ],
   "metadata": {}
  }
 ]
}