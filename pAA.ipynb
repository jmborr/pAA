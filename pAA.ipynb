{
 "metadata": {
  "name": "",
  "signature": "sha256:b0c412a6cf7acf97867bd249591995ea7d39f69e8adf2d1f31a97342338cbe98"
 },
 "nbformat": 3,
 "nbformat_minor": 0,
 "worksheets": [
  {
   "cells": [
    {
     "cell_type": "markdown",
     "metadata": {},
     "source": [
      "<a id='Table of Contents'></a><h2>poly Acrylic Acid</h2>  \n",
      "<a href='#goal'>Goal</a>   \n",
      "<a href='#people'>People</a>  \n",
      "\n",
      "<a id='Experiment'></a><h3>Experiment</h3>\n",
      "\n",
      "<a href='#Experiment.ionization'>Polymer ionization</a>  \n",
      "\n",
      "<a id='SolvatedAcrylate'></a><h3>Solvated Acrylate</h3>\n",
      "<a href='#SolvatedAcrylate.tolammps'>Initial lammps input files and minimization and relaxation</a>  \n",
      "<a href='#SolvatedAcrylate.benchmark'>Benchmark in edison.nersc</a>  \n",
      "<a href='#SolvatedAcrylate.structure_factors'>Calculate intermediate incoherent structure factors</a>  \n",
      "\n",
      "\n",
      "<a id='meetings'></a><b>Meetings</b>  \n",
      "\n",
      "<a href='#Syntax'>HTML and Markdown Syntax Examples</a>  \n"
     ]
    },
    {
     "cell_type": "markdown",
     "metadata": {},
     "source": [
      "(<a href='#Table of Contents'>Top</a>)<a id='goal'></a><h3>Goal</h3>\n",
      "[poly-acrylic acid](https://en.wikipedia.org/wiki/Acrylic_acid).\n"
     ]
    },
    {
     "cell_type": "markdown",
     "metadata": {},
     "source": [
      "(<a href='#Table of Contents'>Top</a>)<a id='people'></a><h3>People</h3>\n",
      "Marcella Cabrera Berg"
     ]
    },
    {
     "cell_type": "markdown",
     "metadata": {},
     "source": [
      "<h2>Experiment</h2>"
     ]
    },
    {
     "cell_type": "markdown",
     "metadata": {},
     "source": [
      "(<a href='#Experiment'>Top</a>)<a id='Experiment.ionization'></a><h3>Polymer ionization</h3>\n",
      "\n",
      "[Acrylic acid](https://en.wikipedia.org/wiki/Acrylic_acid) can ionize in the presence of water converting to [metacrylate](https://en.wikipedia.org/wiki/Methacrylate): $C_3H_4O_2 = C_3H_3O_2^- + H^+$. The [carboxylate](https://en.wikipedia.org/wiki/Carboxylate) anion $COO^-$ of the methacrylate can be neutralized by adding $Na^+$ to the simulation box.\n",
      "\n",
      "Given the defintion of Ka, $Ka = \\frac{[COO^-][H^+]}{[COOH]}$, we can solve for the $\\frac{[COO^-]}{[COOH]}$ ratio by taking $-log_{10}$:\n",
      "\n",
      "<center>$-log_{10}Ka = pKa = -log_{10}(\\frac{[COO^-]}{[COOH]}) -log_{10}[H^+] = -log_{10}(\\frac{[COO^-]}{[COOH]}) + pH$  \n",
      "\n",
      "$\\frac{[COO^-]}{[COOH]} =  10^{pH-pKa}$</center>\n",
      "\n",
      "$pKa$ of acrylic acid is 4.25, so:  \n",
      "- At neutral $pH=7$ we have $\\frac{[COO^-]}{[COOH]} =  10^{7-4.25} \\approx 562$, fully ionized.\n",
      "- At acidic $pH=1.5$ we have $\\frac{[COO^-]}{[COOH]} =  10^{1.5-4.25} \\approx 1.8\\cdot 10^{-3}$, fully neutral."
     ]
    },
    {
     "cell_type": "markdown",
     "metadata": {},
     "source": [
      "<h2>Solvated Acrylate</h2>\n"
     ]
    },
    {
     "cell_type": "markdown",
     "metadata": {},
     "source": [
      "(<a href='#SolvatedAcrylate'>Top</a>)<a id='SolvatedAcrylate.tolammps'></a><h3>Initial lammps input files and minimization and relaxation</h3>\n",
      "In subdir <i>solvated_acrylate/preliminary</i>.  \n",
      "First we need to create a <i>data</i> file containing the system, the bounding box, and the force-field parameters.\n",
      "\n",
      "* In Materials studio, <i>Export</i> the minimized system as CAR file, thus creating 100mer_last_MD.car and 100mer_last_MD.mdf files.\n",
      "\n",
      "* Invoke msi2lmp to create [100mer_last_MD.data](files/solvated_acrylate/preliminary/100mer_last_MD.data) input file: <code>msi2lmp 100mer_last_MD -class I -frc ./cvff.frc</code>. You need force field file [cvff.frc](files/msi2lmp/cvff.frc)\n",
      "\n",
      "* Comment the first line of file 100mer_last_MD.data by prepending a '#' symbol\n",
      "\n",
      "* (Optional) Add a comment line (<code># Box Dimensions</code>) before the section describing the box dimensions\n",
      "\n",
      "In addition to the <i>data</i> file, and <i>input</i> file is needed describing the environment of the system (temperature, pressure) as well as other characteristics of the simulations (set of physical units, non-bonded forces cutoff and calculations, run time).  \n",
      "- First minimization of the system using file [minimize.in](files/solvated_acrylate/preliminary/minimize/minimize.in): <code>mpirun -np 24 lammps-daily -in minimize.in</code>.  \n",
      "- First relaxation of the system to room conditions using file [relax.1.in](files/solvated_acrylate/preliminary/minimize/relax.1.in): <code>mpirun -np 24 lammps-daily -in relax.1.in</code>.  \n"
     ]
    },
    {
     "cell_type": "markdown",
     "metadata": {},
     "source": [
      "(<a href='#SolvatedAcrylate'>Top</a>)<a id='SolvatedAcrylate.benchmark'></a><h3>Benchmark in edison.nersc</h3>\n",
      "\n",
      "Three types of simulations:\n",
      "1. NPT (timestep=1fs, 50000 steps)\n",
      "2. NVT (timestep=1fs, 50000 steps)\n",
      "3. NVT + SHAKE bonds involving hydrogens (timestep=2fs, 25000 steps)\n",
      "\n",
      "Conditions common to the three types of simulations:\n",
      "- neighbor 1.0 bin\n",
      "- neigh_modify every 10\n",
      "\n",
      "Batch script and lammps input files:\n",
      "1. [benchmark.slurm](files/solvated_acrylate/preliminary/benchmark/benchmark.slurm), [benchmark.in](files/solvated_acrylate/preliminary/benchmark/benchmark.in)\n",
      "2. [benchmark_NVT.slurm](files/solvated_acrylate/preliminary/benchmark/benchmark_NVT.slurm), [benchmark_NVT.in](files/solvated_acrylate/preliminary/benchmark/benchmark_NVT.in)\n",
      "3. [benchmark_shake.slurm](files/solvated_acrylate/preliminary/benchmark/benchmark_shake.slurm), [benchmark_shake.in](files/solvated_acrylate/preliminary/benchmark/benchmark_shake.in)\n",
      "\n",
      "File [timing.dat](files/solvated_acrylate/preliminary/benchmark/timing.dat) contains minutes for the runs, as well as projected times for a 20ns run, plotted below:\n",
      "\n",
      "<center><a href=\"files/solvated_acrylate/preliminary/benchmark/timing.png\"><img src=\"files/solvated_acrylate/preliminary/benchmark/timing.png\" width=\"200\"></a>\n",
      "<i>timing.agr</i></center>"
     ]
    },
    {
     "cell_type": "markdown",
     "metadata": {},
     "source": [
      "(<a href='#SolvatedAcrylate'>Top</a>)<a id='SolvatedAcrylate.structure_factors'></a><h3>Calculate intermediate incoherentstructure factors</h3>\n",
      "In subdirectory <i>solvated_acrylate/flag_bound_water/</i> and in \n",
      "<i>camm1.sns.gov:/data/nfs/camm/users/jbq/pAA/solvated_acrylate/flag_bound_water</i>  \n",
      "\n",
      "Script [flag_atoms.py](files/solvated_acrylate/flag_bound_water/flag_atoms.py) will read a PDB file (topology) and DCD file (wrapped trajectory) and will calculate for each water hydrogen atom whether it's bound to the polymer or Na+ ions, this for every frame in the trajectory.\n",
      "\n",
      "<code>$> python flag_atoms.py  acrylate.pdb PAA.T270K.2NS.dcd PAA.T270K.2NS.npy --help\n",
      "\n",
      "usage: flag_atoms.py [-h] [--solvent_sel SOLVENT_SEL]\n",
      "                     [--solute_sel SOLUTE_SEL] [--cut_off CUT_OFF]\n",
      "                     topology_file trajectory_file save_flags_file\n",
      "\n",
      "Calculate the flags trajectory determining for each solvent atom whether it is\n",
      "bound to any solute atom\n",
      "\n",
      "positional arguments:\n",
      "  topology_file         topology file. PDB format is OK\n",
      "  trajectory_file       Trajectory file, wrapped coordinates\n",
      "  save_flags_file       File name to save the flags trajectory.\n",
      "\n",
      "optional arguments:\n",
      "  -h, --help            show this help message and exit\n",
      "  --solvent_sel SOLVENT_SEL\n",
      "                        selection for solvent atoms (default: resname XXXX and\n",
      "                        name H*)\n",
      "  --solute_sel SOLUTE_SEL\n",
      "                        selection for solute atoms (default: (not resname\n",
      "                        XXXX) or (resname XXXX and name Na*))\n",
      "  --cut_off CUT_OFF     maximum distance from solvent atom to solute to\n",
      "                        consider solute atom as bound (default: 2.5)\n",
      "</code>\n",
      "\n",
      "We use bash script [flag_atoms.sh](files/solvated_acrylate/flag_bound_water/flag_atoms.sh) to run flag_atoms.py over a set of trajectories.\n",
      "\n",
      "Script [unwrap_trajectories.py](files/solvated_acrylate/flag_bound_water/unwrap_trajectories.py) will use <code>VMD</code> to unwrap a wrapped trajectory in DCD format. We need an unwrapped trajectory in order to calculate incoherent I(Q,t).\n",
      "\n",
      "<code>python unwrap_trajectories.py</code>\n",
      "\n",
      "\n",
      "Script [sqe.py](files/solvated_acrylate/flag_bound_water/sqe.py) reads in a PDB file (topology), a DCD file (unwrapped trajectory), and a file containing the flags trajectory. This file is the output of <code>flag_atoms.py</code>.\n",
      "\n",
      "Calculates the intermediate incoherent structure factor (IISF(Q,t)) of the water Hydrogen atoms. It also calculates the following components of the IISF(Q,t):\n",
      "  + water hydrogens bound to polymer+Na\n",
      "  + unbound, or bulk, water hydrogens\n",
      "  + unbinding process for water\n",
      "  + binding process water\n",
      "\n",
      "<code>$> python sqe.py acrylate.pdb PAA.T270K.2NS_unwrapped.dcd PAA.T270K.2NS.npy --help\n",
      "\n",
      "usage: sqe.py [-h] [--solvent_sel SOLVENT_SEL] [--qvalues QVALUES] [--dt DT]\n",
      "              [--nt NT] [--prefix PREFIX]\n",
      "              topology_file trajectory_file save_flags_file\n",
      "\n",
      "Component Intermediate Incoherent structure factors. Ouputs HDF5 files: -\n",
      "sf.h5 Incoherent structure factor (ISF) - sfYY.h5 ISF for bound solvent to\n",
      "solute. - sfNN.h5 ISF for unbound of bulk solvent. - sfNY.h5 ISF for binding\n",
      "processes. - sfYN.h5 ISF for unbinnding processes.\n",
      "\n",
      "positional arguments:\n",
      "  topology_file         topology file. PDB format is OK\n",
      "  trajectory_file       Trajectory file, unwrapped coordinates\n",
      "  save_flags_file       File containing the flags trajectory for eachsolvent\n",
      "                        atom determining whether it is bound to any solute\n",
      "                        atoms.\n",
      "\n",
      "optional arguments:\n",
      "  -h, --help            show this help message and exit\n",
      "  --solvent_sel SOLVENT_SEL\n",
      "                        selection for solvent atoms. Must be the same than the\n",
      "                        selection used to create the flags trajectory file.\n",
      "                        (default: resname XXXX and name H*)\n",
      "  --qvalues QVALUES     Triad defining the momentum transfer values min_val,\n",
      "                        max_val, step. For instance, 0.1, 2.1, 0.2 will yield\n",
      "                        Q values from 0.1 up to and included 1.9. Last value\n",
      "                        2.1 is excluded. (default:\n",
      "                        \"0.3,0.5,0.7,0.9,1.1,1.3,1.5,1.7,1.9\")\n",
      "  --dt DT               Elemental elapsed time, t of I(Q,t), in units of\n",
      "                        number of trajectory frames (default: 10)\n",
      "  --nt NT               Number of elapsed times (default: 1000)\n",
      "  --prefix PREFIX       prefix each output ISF with this input sting (default:)\n",
      "</code>\n",
      "\n",
      "We use bash script [sqe.sh](files/solvated_acrylate/flag_bound_water/sqe.sh) to calculate IISF for the 2ns runs. These runs contain 10000 frames, thus 5frames/ps.  \n",
      "We use the Q-values for the IRIS experiment, namely:  \n",
      "\n",
      "<code>0.483619, 0.607871, 0.729147, 0.847027, 0.960857, 1.07024, 1.17452, 1.2732,\n",
      "1.36594, 1.45216, 1.53158, 1.60372, 1.66829, 1.72494, 1.77349, 1.8136, 1.8451\n",
      "</code>  \n",
      "\n",
      "We output IISF containing 2000 timepoints, separated by 5frames. Thus, each timepoint is separated by 1ps."
     ]
    },
    {
     "cell_type": "markdown",
     "metadata": {},
     "source": [
      "<h2>Meetings</h2>"
     ]
    },
    {
     "cell_type": "markdown",
     "metadata": {},
     "source": [
      "(<a href='#Table of Contents'>Top</a>)<a id='Syntax'></a><h3>HTML and Markdown Syntax Examples</h3>\n",
      "local link: [link](files/link)</br>\n",
      "remote link: <a href=\"http://ambermd.org/\">http://ambermd.org</a>\n",
      "<font face=\"courier new\"> font face=\"courier new\" </font><br/>\n",
      "$$S_{model}(Q,E)=A(Q)\\cdot S_{elastic}(E) + B(Q)\\cdot S_{simulation}(Q,E)\\otimes S_{elastic}(E) + C(Q)+D(Q)\\cdot E$$\n",
      "<pre> Quoted text </pre>\n",
      "<center><table><tr>\n",
      "<td><a href=\"files/image.png\"><img src=\"files/image.png\" width=\"300\" height=\"250\" alt=\"image here\"></a> <br/>\n",
      "    <i>image caption</i></td>\n",
      "<td>some text</td>\n",
      "</tr></table></center>"
     ]
    },
    {
     "cell_type": "code",
     "collapsed": false,
     "input": [],
     "language": "python",
     "metadata": {},
     "outputs": []
    }
   ],
   "metadata": {}
  }
 ]
}