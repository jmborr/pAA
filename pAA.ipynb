{
 "metadata": {
  "name": "",
  "signature": "sha256:038d9dce8a0f6385965acbeee8a37808e58dfe0ad7c81cac6a6aa2dc9f91c1e4"
 },
 "nbformat": 3,
 "nbformat_minor": 0,
 "worksheets": [
  {
   "cells": [
    {
     "cell_type": "markdown",
     "metadata": {},
     "source": [
      "<a id='Table of Contents'></a><h2>poly Acrylic Acid</h2>  \n",
      "<a href='#goal'>Goal</a>   \n",
      "<a href='#people'>People</a>  \n",
      "\n",
      "<a id='Experiment'></a><h3>Experiment</h3>\n",
      "\n",
      "<a href='#Experiment.ionization'>Polymer ionization</a>  \n",
      "\n",
      "<a id='SolvatedAcrylate'></a><h3>Solvated Acrylate</h3>\n",
      "<a href='#SolvatedAcrylate.tolammps'>Initial lammps input files and minimization and relaxation</a>  \n",
      "<a href='#SolvatedAcrylate.benchmark'>Benchmark in edison.nersc</a>  \n",
      "<a href='#SolvatedAcrylate.structure_factors'>Calculate intermediate incoherentstructure factors</a>  \n",
      "\n",
      "\n",
      "<a id='meetings'></a><b>Meetings</b>  \n",
      "\n",
      "<a href='#Syntax'>HTML and Markdown Syntax Examples</a>  \n"
     ]
    },
    {
     "cell_type": "markdown",
     "metadata": {},
     "source": [
      "(<a href='#Table of Contents'>Top</a>)<a id='goal'></a><h3>Goal</h3>\n",
      "[poly-acrylic acid](https://en.wikipedia.org/wiki/Acrylic_acid).\n"
     ]
    },
    {
     "cell_type": "markdown",
     "metadata": {},
     "source": [
      "(<a href='#Table of Contents'>Top</a>)<a id='people'></a><h3>People</h3>\n",
      "Marcella Cabrera Berg"
     ]
    },
    {
     "cell_type": "markdown",
     "metadata": {},
     "source": [
      "<h2>Experiment</h2>"
     ]
    },
    {
     "cell_type": "markdown",
     "metadata": {},
     "source": [
      "(<a href='#Experiment'>Top</a>)<a id='Experiment.ionization'></a><h3>Polymer ionization</h3>\n",
      "\n",
      "[Acrylic acid](https://en.wikipedia.org/wiki/Acrylic_acid) can ionize in the presence of water converting to [metacrylate](https://en.wikipedia.org/wiki/Methacrylate): $C_3H_4O_2 = C_3H_3O_2^- + H^+$. The [carboxylate](https://en.wikipedia.org/wiki/Carboxylate) anion $COO^-$ of the methacrylate can be neutralized by adding $Na^+$ to the simulation box.\n",
      "\n",
      "Given the defintion of Ka, $Ka = \\frac{[COO^-][H^+]}{[COOH]}$, we can solve for the $\\frac{[COO^-]}{[COOH]}$ ratio by taking $-log_{10}$:\n",
      "\n",
      "<center>$-log_{10}Ka = pKa = -log_{10}(\\frac{[COO^-]}{[COOH]}) -log_{10}[H^+] = -log_{10}(\\frac{[COO^-]}{[COOH]}) + pH$  \n",
      "\n",
      "$\\frac{[COO^-]}{[COOH]} =  10^{pH-pKa}$</center>\n",
      "\n",
      "$pKa$ of acrylic acid is 4.25, so:  \n",
      "- At neutral $pH=7$ we have $\\frac{[COO^-]}{[COOH]} =  10^{7-4.25} \\approx 562$, fully ionized.\n",
      "- At acidic $pH=1.5$ we have $\\frac{[COO^-]}{[COOH]} =  10^{1.5-4.25} \\approx 1.8\\cdot 10^{-3}$, fully neutral."
     ]
    },
    {
     "cell_type": "markdown",
     "metadata": {},
     "source": [
      "<h2>Solvated Acrylate</h2>\n"
     ]
    },
    {
     "cell_type": "markdown",
     "metadata": {},
     "source": [
      "(<a href='#SolvatedAcrylate'>Top</a>)<a id='SolvatedAcrylate.tolammps'></a><h3>Initial lammps input files and minimization and relaxation</h3>\n",
      "In subdir <i>solvated_acrylate/preliminary</i>.  \n",
      "First we need to create a <i>data</i> file containing the system, the bounding box, and the force-field parameters.\n",
      "\n",
      "* In Materials studio, <i>Export</i> the minimized system as CAR file, thus creating 100mer_last_MD.car and 100mer_last_MD.mdf files.\n",
      "\n",
      "* Invoke msi2lmp to create [100mer_last_MD.data](files/solvated_acrylate/preliminary/100mer_last_MD.data) input file: <code>msi2lmp 100mer_last_MD -class I -frc ./cvff.frc</code>. You need force field file [cvff.frc](files/msi2lmp/cvff.frc)\n",
      "\n",
      "* Comment the first line of file 100mer_last_MD.data by prepending a '#' symbol\n",
      "\n",
      "* (Optional) Add a comment line (<code># Box Dimensions</code>) before the section describing the box dimensions\n",
      "\n",
      "In addition to the <i>data</i> file, and <i>input</i> file is needed describing the environment of the system (temperature, pressure) as well as other characteristics of the simulations (set of physical units, non-bonded forces cutoff and calculations, run time).  \n",
      "- First minimization of the system using file [minimize.in](files/solvated_acrylate/preliminary/minimize/minimize.in): <code>mpirun -np 24 lammps-daily -in minimize.in</code>.  \n",
      "- First relaxation of the system to room conditions using file [relax.1.in](files/solvated_acrylate/preliminary/minimize/relax.1.in): <code>mpirun -np 24 lammps-daily -in relax.1.in</code>.  \n"
     ]
    },
    {
     "cell_type": "markdown",
     "metadata": {},
     "source": [
      "(<a href='#SolvatedAcrylate'>Top</a>)<a id='SolvatedAcrylate.benchmark'></a><h3>Benchmark in edison.nersc</h3>\n",
      "\n",
      "Three types of simulations:\n",
      "1. NPT (timestep=1fs, 50000 steps)\n",
      "2. NVT (timestep=1fs, 50000 steps)\n",
      "3. NVT + SHAKE bonds involving hydrogens (timestep=2fs, 25000 steps)\n",
      "\n",
      "Conditions common to the three types of simulations:\n",
      "- neighbor 1.0 bin\n",
      "- neigh_modify every 10\n",
      "\n",
      "Batch script and lammps input files:\n",
      "1. [benchmark.slurm](files/solvated_acrylate/preliminary/benchmark/benchmark.slurm), [benchmark.in](files/solvated_acrylate/preliminary/benchmark/benchmark.in)\n",
      "2. [benchmark_NVT.slurm](files/solvated_acrylate/preliminary/benchmark/benchmark_NVT.slurm), [benchmark_NVT.in](files/solvated_acrylate/preliminary/benchmark/benchmark_NVT.in)\n",
      "3. [benchmark_shake.slurm](files/solvated_acrylate/preliminary/benchmark/benchmark_shake.slurm), [benchmark_shake.in](files/solvated_acrylate/preliminary/benchmark/benchmark_shake.in)\n",
      "\n",
      "File [timing.dat](files/solvated_acrylate/preliminary/benchmark/timing.dat) contains minutes for the runs, as well as projected times for a 20ns run, plotted below:\n",
      "\n",
      "<center><a href=\"files/solvated_acrylate/preliminary/benchmark/timing.png\"><img src=\"files/solvated_acrylate/preliminary/benchmark/timing.png\" width=\"200\"></a>\n",
      "<i>timing.agr</i></center>"
     ]
    },
    {
     "cell_type": "markdown",
     "metadata": {},
     "source": [
      "(<a href='#SolvatedAcrylate'>Top</a>)<a id='SolvatedAcrylate.structure_factors'></a><h3>Calculate intermediate incoherentstructure factors</h3>\n",
      "In subdirectory <i>solvated_acrylate/flag_bound_water/</i>:  \n",
      "Script [sqe.py](files/solvated_acrylate/flag_bound_water/sqe.py) reads in a PDB file (topology) and DCD file (trajectory) and if we used default arguments for <code>--solvent_sel</code> and <code>--save_flags_file</code>, then:\n",
      "\n",
      "\n",
      "- Calculates for each frame and for each water Hydrogen atom whether it's close to the solute (polymer + bound Na atoms)\n",
      "- Calculates the intermediate incoherent structure factor (IISF) of the water Hydrogen atoms. It also calculates the following components:\n",
      "  + bound water\n",
      "  + unbound, or bulk, water\n",
      "  + unbinding process for water\n",
      "  + binding process water\n",
      "\n",
      "<code>python sqe.py acrylate.pdb wrapped_data.T300K.dcd</code>\n",
      "\n",
      "Calculating the bound state for each water Hydrogen atom of <code>--solvent_sel=\"resname XXXX and name H*\"</code>\n",
      "and for each trajectory frame is costly. Thus, this information is stored in a numpy binary file (*.npy, optional argument --save_flags_file). If we want to reuse the same trajectory, we can pass this argument with an existing *.npy file and the file will be loaded instead of recalculating the bound info.\n",
      "\n",
      "Output files:  \n",
      "- <i>bound_solute_flags.npy</i>: trajectory flagging each water Hydrogen atom whether it's bound to the solute atoms for each frame.\n",
      "- <i>sf.h5</i>:  IISF for all water Hydrogen atoms\n",
      "- <i>sfYY.h5</i>: IISF for all water Hydrogen atoms that were bound at the end-points in the elapsed times. \n",
      "- <i>sfNN.h5</i>: IISF for all water Hydrogen atoms that were unbound at the end-points in the elapsed times. \n",
      "- <i>sfYN.h5</i>: IISF for all water Hydrogen atoms that was bound and then unbound at the end-points in the elapsed times. \n",
      "- <i>sfNY.h5</i>: IISF for all water Hydrogen atoms that was unbound and then bound at the end-points in the elapsed times."
     ]
    },
    {
     "cell_type": "markdown",
     "metadata": {},
     "source": [
      "<h2>Meetings</h2>"
     ]
    },
    {
     "cell_type": "markdown",
     "metadata": {},
     "source": [
      "(<a href='#Table of Contents'>Top</a>)<a id='Syntax'></a><h3>HTML and Markdown Syntax Examples</h3>\n",
      "local link: [link](files/link)</br>\n",
      "remote link: <a href=\"http://ambermd.org/\">http://ambermd.org</a>\n",
      "<font face=\"courier new\"> font face=\"courier new\" </font><br/>\n",
      "$$S_{model}(Q,E)=A(Q)\\cdot S_{elastic}(E) + B(Q)\\cdot S_{simulation}(Q,E)\\otimes S_{elastic}(E) + C(Q)+D(Q)\\cdot E$$\n",
      "<pre> Quoted text </pre>\n",
      "<center><table><tr>\n",
      "<td><a href=\"files/image.png\"><img src=\"files/image.png\" width=\"300\" height=\"250\" alt=\"image here\"></a> <br/>\n",
      "    <i>image caption</i></td>\n",
      "<td>some text</td>\n",
      "</tr></table></center>"
     ]
    },
    {
     "cell_type": "code",
     "collapsed": false,
     "input": [],
     "language": "python",
     "metadata": {},
     "outputs": []
    }
   ],
   "metadata": {}
  }
 ]
}